{
  "nbformat": 4,
  "nbformat_minor": 0,
  "metadata": {
    "colab": {
      "provenance": []
    },
    "kernelspec": {
      "name": "python3",
      "display_name": "Python 3"
    },
    "language_info": {
      "name": "python"
    }
  },
  "cells": [
    {
      "cell_type": "code",
      "execution_count": 1,
      "metadata": {
        "colab": {
          "base_uri": "https://localhost:8080/"
        },
        "id": "Kms6o2C-EJOP",
        "outputId": "018e6171-00af-4c0d-ed1b-1ce0dff36d7f"
      },
      "outputs": [
        {
          "output_type": "stream",
          "name": "stdout",
          "text": [
            "Requirement already satisfied: requests in /usr/local/lib/python3.10/dist-packages (2.32.3)\n",
            "Requirement already satisfied: beautifulsoup4 in /usr/local/lib/python3.10/dist-packages (4.12.3)\n",
            "Requirement already satisfied: charset-normalizer<4,>=2 in /usr/local/lib/python3.10/dist-packages (from requests) (3.4.0)\n",
            "Requirement already satisfied: idna<4,>=2.5 in /usr/local/lib/python3.10/dist-packages (from requests) (3.10)\n",
            "Requirement already satisfied: urllib3<3,>=1.21.1 in /usr/local/lib/python3.10/dist-packages (from requests) (2.2.3)\n",
            "Requirement already satisfied: certifi>=2017.4.17 in /usr/local/lib/python3.10/dist-packages (from requests) (2024.8.30)\n",
            "Requirement already satisfied: soupsieve>1.2 in /usr/local/lib/python3.10/dist-packages (from beautifulsoup4) (2.6)\n"
          ]
        }
      ],
      "source": [
        "!pip install requests beautifulsoup4\n"
      ]
    },
    {
      "cell_type": "code",
      "source": [
        "import requests\n",
        "from bs4 import BeautifulSoup\n",
        "\n",
        "url='https://news.yahoo.co.jp/articles/5b0b08b7e5a173e3d4e6656c4292e4c17ded8214'\n",
        "\n",
        "response=requests.get(url)\n",
        "#HTMLを解析する\n",
        "soup=BeautifulSoup(response.text,'html.parser')\n",
        "\n",
        "#本文の要素を取得\n",
        "body_element=soup.select_one('#uamods > div.article_body.highLightSearchTarget > div > p')\n",
        "\n",
        "body_text=body_element.text\n",
        "\n",
        "print(body_text)\n"
      ],
      "metadata": {
        "colab": {
          "base_uri": "https://localhost:8080/"
        },
        "id": "5AFA23eAFsuk",
        "outputId": "a11bb587-c03b-4d06-faaf-d03e38f6faca"
      },
      "execution_count": 3,
      "outputs": [
        {
          "output_type": "stream",
          "name": "stdout",
          "text": [
            "自動車大手のホンダと日産自動車が、経営統合に向けた協議に入ることがわかりました。\n",
            "\n",
            "統合が実現すれば、世界第3位の販売台数を誇るグループが誕生することになります。\n",
            "\n",
            "経営統合が実現した場合には両企業や、私たちの乗る車に一体どんな変化があるのか、智田裕一解説副委員長に聞いていきます。\n",
            "\n",
            "まずは世界全体の販売台数から見ていきます。\n",
            "トヨタやドイツのフォルクスワーゲンなど、ホンダと日産と同じく老舗の自動車メーカーが上位を占めているという状況ですが、経営統合が実現すると世界3位に行くということで一番のメリットは何でしょうか。\n",
            "\n",
            "智田裕一解説副委員長:\n",
            "まず、規模のメリット。自動車生産では規模を生かして、部品の調達コストなどを下げるのがポイントです。さらに大きいメリットがEV・電気自動車などでの競争力強化となります。\n",
            "\n",
            "自動車業界は100年に1回という転換期を迎えているといわれていまして、世界ではEVとか自動運転とか新たな領域が急速に広がっているんですが、その分野でいかに力をつけるかが今後、自動車メーカーが生き残っていくための大きなポイントになっています。\n",
            "\n",
            "青井実キャスター:\n",
            "EVといえばイーロン・マスク氏が代表を務めるテスラや、中国のBYDなどの新興メーカーがどんどん力をつけてきているわけですが、そこで今回の合併によって力を付けていこう、対抗していこうという狙い?\n",
            "\n",
            "智田裕一解説副委員長:\n",
            "そうですね。電動化とか自動運転技術、この研究、開発には巨額の投資が必要になるので、経営統合で巨額の投資を分担し合って、それぞれが持つ技術を持ち寄ることで競争力を高めていこうという狙いがあります。\n",
            "\n",
            "宮司愛海キャスター:\n",
            "企業側のメリットはたくさんあるような印象も受けますが、私たち、例えば車の価格が下がるとか性能が上がるとかそういうメリットってどんなところですか?\n",
            "\n",
            "智田裕一解説副委員長:\n",
            "それはまさにそのとおりで、両社の技術を持ち寄って効率よく技術開発を進めていければ、消費者のニーズにあった車を、より安い価格で生産できるという可能性も出てくると。\n",
            "\n",
            "青井実キャスター:\n",
            "課題があるとすれば、どういうところでしょうか?\n",
            "\n",
            "智田裕一解説副委員長:\n",
            "日産もホンダも両方とも経営力を強化しなきゃいけないということがあって、日産はアメリカと中国で販売が良くないと。ホンダも中国で良くないというのがあるので、その販売を補うというポイントとともにファンが両方とも多いですよね。だから、固定ファンをいかに離さないでスケールメリットを生かした生き残りができるかどうかだと思っています。\n"
          ]
        }
      ]
    }
  ]
}
